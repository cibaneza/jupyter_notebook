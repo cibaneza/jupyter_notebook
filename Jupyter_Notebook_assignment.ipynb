{
 "cells": [
  {
   "cell_type": "markdown",
   "id": "46f12597-6516-406c-b277-6dd7fcb6d862",
   "metadata": {},
   "source": [
    "\n",
    "# My Jupyter Notebook on Skills Network Labs LTI\n"
   ]
  },
  {
   "cell_type": "markdown",
   "id": "b75d8e4e-a99d-42bf-9ba6-087aad06c002",
   "metadata": {},
   "source": [
    "\n",
    "Hello, my name is **Carlos Ibáñez & i'm from Chile**\n",
    "I wanna be a Data Scientist at an important national bank\n"
   ]
  },
  {
   "cell_type": "markdown",
   "id": "80f666d6-6277-4b6f-b8c1-18e14753bd9d",
   "metadata": {},
   "source": [
    "\n",
    "*I am interested in data science because i would like to be part of the tech revolution involving data, because with data science i will can solve business, finance and daily problems of normal people, being part of that great change of their lifes.*\n"
   ]
  },
  {
   "cell_type": "markdown",
   "id": "afbd5415-5c49-45a2-8b7f-247a51c20b8b",
   "metadata": {},
   "source": [
    "\n",
    "### The below cell should display 2+2 result\n"
   ]
  },
  {
   "cell_type": "code",
   "execution_count": 1,
   "id": "7ca21150-a8f0-4f20-8adb-f3c0991f81f5",
   "metadata": {},
   "outputs": [
    {
     "data": {
      "text/plain": [
       "4"
      ]
     },
     "execution_count": 1,
     "metadata": {},
     "output_type": "execute_result"
    }
   ],
   "source": [
    "2+2"
   ]
  },
  {
   "cell_type": "markdown",
   "id": "21c83392-fbb4-40e5-9066-0d8deaf35037",
   "metadata": {},
   "source": [
    "---\n",
    "![kitten](kitten_101801980.jpg)\n",
    "\n",
    "[kitten-image-link](https://www.google.com/url?sa=i&url=https%3A%2F%2Fwww.collinsdictionary.com%2Fes%2Fdiccionario%2Fingles%2Fkitten&psig=AOvVaw3UrWF-jtfal4oqA6wLIdCf&ust=1663880272925000&source=images&cd=vfe&ved=0CAwQjRxqFwoTCLipj5fjpvoCFQAAAAAdAAAAABAD)\n",
    "---\n",
    ":joy: \n",
    "~~Don't study data science.~~"
   ]
  }
 ],
 "metadata": {
  "kernelspec": {
   "display_name": "Python",
   "language": "python",
   "name": "conda-env-python-py"
  },
  "language_info": {
   "codemirror_mode": {
    "name": "ipython",
    "version": 3
   },
   "file_extension": ".py",
   "mimetype": "text/x-python",
   "name": "python",
   "nbconvert_exporter": "python",
   "pygments_lexer": "ipython3",
   "version": "3.7.12"
  }
 },
 "nbformat": 4,
 "nbformat_minor": 5
}
